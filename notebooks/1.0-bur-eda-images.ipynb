{
 "cells": [
  {
   "cell_type": "markdown",
   "metadata": {},
   "source": [
    "# 📸 EDA on Train / Test / Pretrain Images\n",
    "\n",
    "<img src='../assets/stranger-sections-2.png'>"
   ]
  },
  {
   "cell_type": "markdown",
   "metadata": {},
   "source": [
    "## 📚 Libraries"
   ]
  },
  {
   "cell_type": "code",
   "execution_count": null,
   "metadata": {},
   "outputs": [],
   "source": [
    "%load_ext autoreload\n",
    "%autoreload 2"
   ]
  },
  {
   "cell_type": "code",
   "execution_count": null,
   "metadata": {},
   "outputs": [],
   "source": [
    "import os\n",
    "import random\n",
    "import matplotlib.pyplot as plt\n",
    "from PIL import Image\n",
    "import plotly.graph_objs as go\n",
    "import plotly.express as px\n",
    "import numpy as np\n",
    "from glob import glob\n",
    "from tqdm.notebook import tqdm\n",
    "import torch\n",
    "import torchvision.transforms.v2 as tv2T\n",
    "import torchvision.transforms.v2.functional as tv2F\n",
    "from functools import partial"
   ]
  },
  {
   "cell_type": "markdown",
   "metadata": {},
   "source": [
    "## 🔬 Analysis"
   ]
  },
  {
   "cell_type": "code",
   "execution_count": null,
   "metadata": {},
   "outputs": [],
   "source": [
    "folder_path = \"../data/raw/**/*.JPG\"\n",
    "\n",
    "shapes = []\n",
    "for image_path in tqdm(glob(folder_path, recursive=True)):\n",
    "    image = Image.open(image_path).convert(\"L\")\n",
    "    shapes.append(np.array(image).shape)\n",
    "values, counts = np.unique(shapes, return_counts=True, axis=0)\n",
    "values = [str(shape) for shape in values]\n",
    "px.bar(x=values, y=counts)"
   ]
  },
  {
   "cell_type": "code",
   "execution_count": null,
   "metadata": {},
   "outputs": [],
   "source": [
    "folder_path = \"../data/raw/**/*.jpg\"\n",
    "\n",
    "shapes = []\n",
    "for image_path in tqdm(glob(folder_path, recursive=True)):\n",
    "    image = Image.open(image_path).convert(\"L\")\n",
    "    shapes.append(np.array(image).shape)\n",
    "values, counts = np.unique(shapes, return_counts=True, axis=0)\n",
    "values = [str(shape) for shape in values]\n",
    "px.bar(x=values, y=counts)"
   ]
  },
  {
   "cell_type": "code",
   "execution_count": null,
   "metadata": {},
   "outputs": [],
   "source": [
    "def compute_mean_std_by_channel():\n",
    "    image_paths = glob('../data/raw/**/*.JPG', recursive=True)\n",
    "    image_paths += glob('../data/raw/**/*.jpg', recursive=True)\n",
    "\n",
    "    transform = tv2T.Compose([\n",
    "        tv2T.ToImage(),\n",
    "        tv2T.ToDtype(dtype=torch.float32, scale=True),\n",
    "        # tv2T.Lambda(partial(tv2F.adjust_contrast, contrast_factor=2))\n",
    "        ])\n",
    "\n",
    "    count = torch.zeros(3, 1024, 1360)\n",
    "    for image_path in tqdm(image_paths, desc='Compute mean'):\n",
    "        image = Image.open(image_path).convert('RGB')\n",
    "        image = transform(image)\n",
    "        count += image\n",
    "    \n",
    "    mean = torch.sum(count, dim=(1, 2)) / (len(image_paths) * 1024 * 1360)\n",
    "    mean = mean.unsqueeze(dim=1).unsqueeze(dim=2)\n",
    "\n",
    "    count = torch.zeros(3, 1024, 1360)\n",
    "    for image_path in tqdm(image_paths, desc='Compute std'):\n",
    "        image = Image.open(image_path).convert('RGB')\n",
    "        image = transform(image)\n",
    "        count += torch.pow(image - mean, 2)\n",
    "    \n",
    "    std = torch.sqrt(torch.sum(count, dim=(1, 2)) / (len(image_paths) * 1024 * 1360))\n",
    "\n",
    "    return mean.squeeze(), std\n",
    "\n",
    "compute_mean_std_by_channel()"
   ]
  },
  {
   "cell_type": "markdown",
   "metadata": {},
   "source": [
    "## 🎞️ Data visualisation"
   ]
  },
  {
   "cell_type": "code",
   "execution_count": null,
   "metadata": {},
   "outputs": [],
   "source": [
    "image_folder_path = \"../data/raw/train/image\"\n",
    "label_folder_path = \"../data/raw/train/label\"\n",
    "labels_name = ['Inertinite', 'Vitrinite', 'Liptinite']\n",
    "jpg_files = [file for file in os.listdir(image_folder_path) if file.endswith(\".JPG\")]\n",
    "\n",
    "jpg_file = random.choice(jpg_files)\n",
    "# images avec plusieurs labels\n",
    "# jpg_file = 'grqhu2.JPG'\n",
    "# jpg_file = 'tya5k0.JPG'\n",
    "# jpg_file = 'tpb83i.JPG'\n",
    "# jpg_file = 'hsa12q.JPG'\n",
    "\n",
    "jpg_image = np.asarray(Image.open(os.path.join(image_folder_path, jpg_file)))\n",
    "\n",
    "npy_file = jpg_file.replace(\".JPG\", \"_gt.npy\")\n",
    "npy_data = np.load(os.path.join(label_folder_path, npy_file))\n",
    "label_idxs = np.unique(npy_data)[1:] - 1\n",
    "\n",
    "fig, ax = plt.subplots(1, 3, figsize=(15, 5))\n",
    "ax[0].imshow(jpg_image)\n",
    "ax[0].set_title(f'{\" and \".join(labels_name[label_idx] for label_idx in label_idxs)} Image')\n",
    "ax[0].axis('off')\n",
    "ax[1].imshow(npy_data)\n",
    "ax[1].set_title(f'{\" and \".join(labels_name[label_idx] for label_idx in label_idxs)} Label')\n",
    "ax[1].axis('off')\n",
    "ax[2].imshow(jpg_image)\n",
    "ax[2].set_title(f'{\" and \".join(labels_name[label_idx] for label_idx in label_idxs)} Image with Label')\n",
    "ax[2].axis('off')\n",
    "ax[2].imshow(npy_data, alpha=0.5)\n",
    "\n",
    "plt.show()\n"
   ]
  },
  {
   "cell_type": "code",
   "execution_count": null,
   "metadata": {},
   "outputs": [],
   "source": [
    "pretrain_folder_path = \"../data/raw/pretrain\"\n",
    "\n",
    "jpg_files = [file for file in os.listdir(pretrain_folder_path) if file.endswith(\".jpg\")]\n",
    "\n",
    "k = 9\n",
    "jpg_files = random.sample(jpg_files, k=k)\n",
    "\n",
    "jpg_images = [np.asarray(Image.open(os.path.join(pretrain_folder_path, jpg_file))) for jpg_file in jpg_files]\n",
    "\n",
    "fig, axs = plt.subplots(3, 3, figsize=(15, 15))\n",
    "for i in range(int(np.sqrt(k))):\n",
    "    for j in range(int(np.sqrt(k))):\n",
    "        axs[i][j].imshow(jpg_images[i*(int(np.sqrt(k))) + j])\n",
    "        axs[i][j].set_title(f'{jpg_files[i*(int(np.sqrt(k))) + j]}')\n",
    "        axs[i][j].axis('off')\n",
    "\n",
    "plt.show()\n"
   ]
  },
  {
   "cell_type": "markdown",
   "metadata": {},
   "source": [
    "## 🎨 Color Histogram"
   ]
  },
  {
   "cell_type": "code",
   "execution_count": null,
   "metadata": {},
   "outputs": [],
   "source": [
    "def get_image_path_by_label():\n",
    "    image_folder = \"../data/raw/train/image\"\n",
    "    label_folder = \"../data/raw/train/label\"\n",
    "\n",
    "    image_paths_1 = []\n",
    "    image_paths_2 = []\n",
    "    image_paths_3 = []\n",
    "\n",
    "    for image_file in tqdm(os.listdir(image_folder)):\n",
    "        if image_file.endswith(\".JPG\"):\n",
    "            image_path = os.path.join(image_folder, image_file)\n",
    "            \n",
    "            label_file = image_file.replace(\".JPG\", \"_gt.npy\")\n",
    "            label_path = os.path.join(label_folder, label_file)\n",
    "            \n",
    "            label_array = np.load(label_path)\n",
    "            \n",
    "            unique = np.unique(label_array)\n",
    "            if len(unique) > 2:\n",
    "                print(image_file)\n",
    "            \n",
    "            if 1 in label_array:\n",
    "                image_paths_1.append(image_path)\n",
    "            if 2 in label_array:\n",
    "                image_paths_2.append(image_path)\n",
    "            if 3 in label_array:\n",
    "                image_paths_3.append(image_path)\n",
    "    \n",
    "    return image_paths_1, image_paths_2, image_paths_3\n",
    "\n",
    "\n",
    "def compute_pixel_distribution(list_image_path):\n",
    "    pixel_distribution = np.zeros((256, 256, 256), dtype=np.int32)  # Taille pour couvrir toutes les combinaisons de valeurs de pixels\n",
    "    for image_path in tqdm(list_image_path):\n",
    "        image = Image.open(image_path)\n",
    "        image = np.array(image).reshape(-1, 3)\n",
    "        unique, counts = np.unique(image, axis=0, return_counts=True)\n",
    "        pixel_distribution[unique[:, 0], unique[:, 1], unique[:, 2]] += counts\n",
    "        \n",
    "    return pixel_distribution\n",
    "\n",
    "\n",
    "inertinite_image_path, vitrinite_image_path, liptinite_image_path = get_image_path_by_label()"
   ]
  },
  {
   "cell_type": "code",
   "execution_count": null,
   "metadata": {},
   "outputs": [],
   "source": [
    "def reduce_rgb_cube_size(rgb_values, reduction=16):\n",
    "    rgb_values = torch.from_numpy(rgb_values)\n",
    "    conv3d = torch.nn.Conv3d(1, 1, kernel_size=reduction, bias=False, stride=reduction)\n",
    "    with torch.no_grad():\n",
    "        conv3d.weight.fill_(1)\n",
    "    rgb_values = rgb_values.unsqueeze(0).unsqueeze(0).float()\n",
    "    output = conv3d(rgb_values)\n",
    "    \n",
    "    return output.squeeze().numpy(force=True)\n",
    "\n",
    "def display_rgb_distribution(rgb_values: np.ndarray, class_name, reduction=16, nb_bar=10):\n",
    "    rgb_values = reduce_rgb_cube_size(rgb_values, reduction)\n",
    "    \n",
    "    y = rgb_values.flatten()\n",
    "    x_coords = np.arange(rgb_values.shape[0])\n",
    "    y_coords = np.arange(rgb_values.shape[1])\n",
    "    z_coords = np.arange(rgb_values.shape[2])\n",
    "    \n",
    "    def index_to_rgb(idx):\n",
    "        return idx * reduction + reduction // 2\n",
    "    \n",
    "    rgb_colors = np.array([\n",
    "        f'rgb({index_to_rgb(x)}, {index_to_rgb(y)}, {index_to_rgb(z)})' \n",
    "        for x in x_coords\n",
    "        for y in y_coords\n",
    "        for z in z_coords\n",
    "    ])\n",
    "    \n",
    "    partitioned_indexes = np.argpartition(y, -nb_bar)[-nb_bar:]\n",
    "    sorted_indexes = partitioned_indexes[np.argsort(-y[partitioned_indexes])]\n",
    "    rgb_colors = rgb_colors[sorted_indexes]\n",
    "    y = y[sorted_indexes]\n",
    "    \n",
    "    fig = go.Figure(data=go.Bar(\n",
    "        x=rgb_colors,\n",
    "        y=y,\n",
    "        marker=dict(\n",
    "            color=rgb_colors\n",
    "        )\n",
    "    ))\n",
    "\n",
    "    fig.update_layout(\n",
    "        scene=dict(\n",
    "            xaxis=dict(title='X'),\n",
    "            yaxis=dict(title='Y'),\n",
    "            zaxis=dict(title='Z'),\n",
    "        ),\n",
    "        title=f'Color Histogram for {class_name}',\n",
    "    )\n",
    "\n",
    "    fig.show()"
   ]
  },
  {
   "cell_type": "code",
   "execution_count": null,
   "metadata": {},
   "outputs": [],
   "source": [
    "liptinite_distribution = compute_pixel_distribution(liptinite_image_path)\n",
    "display_rgb_distribution(liptinite_distribution, 'liptinite', reduction=32, nb_bar=15)"
   ]
  },
  {
   "cell_type": "code",
   "execution_count": null,
   "metadata": {},
   "outputs": [],
   "source": [
    "inertinite_distribution = compute_pixel_distribution(inertinite_image_path)\n",
    "display_rgb_distribution(inertinite_distribution, 'inertinite', reduction=32, nb_bar=15)"
   ]
  },
  {
   "cell_type": "code",
   "execution_count": null,
   "metadata": {},
   "outputs": [],
   "source": [
    "vitrinite_distribution = compute_pixel_distribution(vitrinite_image_path)\n",
    "display_rgb_distribution(vitrinite_distribution, 'vitrinite', reduction=32, nb_bar=15)"
   ]
  },
  {
   "cell_type": "code",
   "execution_count": null,
   "metadata": {},
   "outputs": [],
   "source": [
    "display_rgb_distribution(liptinite_distribution + vitrinite_distribution + inertinite_distribution, 'Train data', reduction=32, nb_bar=15)"
   ]
  },
  {
   "cell_type": "code",
   "execution_count": null,
   "metadata": {},
   "outputs": [],
   "source": [
    "test_distribution = compute_pixel_distribution(glob('../data/raw/test/image/*.JPG'))\n",
    "display_rgb_distribution(test_distribution, 'Test data', reduction=32, nb_bar=15)"
   ]
  },
  {
   "cell_type": "code",
   "execution_count": null,
   "metadata": {},
   "outputs": [],
   "source": [
    "# pretrain_distribution = compute_pixel_distribution(glob('../data/raw/pretrain/*.jpg'))\n",
    "# display_rgb_distribution(pretrain_distribution, 'Pretrain data', reduction=32, nb_bar=15)"
   ]
  },
  {
   "cell_type": "markdown",
   "metadata": {},
   "source": [
    "## 🎯 Heatmap"
   ]
  },
  {
   "cell_type": "code",
   "execution_count": null,
   "metadata": {},
   "outputs": [],
   "source": [
    "def get_heatmap_by_class():\n",
    "    label_folder = \"../data/raw/train/label\"\n",
    "\n",
    "    heatmap_1 = np.zeros((1024, 1360), np.int32)\n",
    "    heatmap_2 = np.zeros((1024, 1360), np.int32)\n",
    "    heatmap_3 = np.zeros((1024, 1360), np.int32)\n",
    "\n",
    "    for label_file in tqdm(os.listdir(label_folder)):\n",
    "        if label_file.endswith(\".npy\"):\n",
    "            label_path = os.path.join(label_folder, label_file)\n",
    "            \n",
    "            label_array = np.load(label_path)\n",
    "            \n",
    "            heatmap_1 += np.where(label_array == 1, label_array, 0)\n",
    "            heatmap_2 += np.where(label_array == 2, label_array, 0)\n",
    "            heatmap_3 += np.where(label_array == 3, label_array, 0)\n",
    "    \n",
    "    return heatmap_1, heatmap_2, heatmap_3\n",
    "\n",
    "def plot_heatmap(data, class_name):\n",
    "    aspect_ratio = data.shape[0] / data.shape[1]\n",
    "\n",
    "    fig_height = 600\n",
    "    fig_width = int(fig_height / aspect_ratio)\n",
    "    fig = go.Figure(data=go.Heatmap(z=data, hoverinfo='none'))\n",
    "    fig = fig.update_layout(\n",
    "        title=f'{class_name} Heatmap',\n",
    "        width=fig_width,\n",
    "        height=fig_height,\n",
    "    )\n",
    "    \n",
    "    fig.show()\n",
    "\n",
    "\n",
    "inertinite_heatmap, vitrinite_heatmap, liptinite_heatmap = get_heatmap_by_class()"
   ]
  },
  {
   "cell_type": "code",
   "execution_count": null,
   "metadata": {},
   "outputs": [],
   "source": [
    "plot_heatmap(inertinite_heatmap, 'Inertinite')"
   ]
  },
  {
   "cell_type": "code",
   "execution_count": null,
   "metadata": {},
   "outputs": [],
   "source": [
    "plot_heatmap(vitrinite_heatmap, 'Vitrinite')"
   ]
  },
  {
   "cell_type": "code",
   "execution_count": null,
   "metadata": {},
   "outputs": [],
   "source": [
    "plot_heatmap(liptinite_heatmap, 'Liptinite')"
   ]
  }
 ],
 "metadata": {
  "kernelspec": {
   "display_name": "reflection-connection-env",
   "language": "python",
   "name": "python3"
  },
  "language_info": {
   "codemirror_mode": {
    "name": "ipython",
    "version": 3
   },
   "file_extension": ".py",
   "mimetype": "text/x-python",
   "name": "python",
   "nbconvert_exporter": "python",
   "pygments_lexer": "ipython3",
   "version": "3.10.14"
  }
 },
 "nbformat": 4,
 "nbformat_minor": 4
}
