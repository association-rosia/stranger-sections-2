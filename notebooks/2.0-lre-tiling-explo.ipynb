{
 "cells": [
  {
   "cell_type": "code",
   "execution_count": null,
   "id": "initial_id",
   "metadata": {},
   "outputs": [],
   "source": [
    "import os\n",
    "import numpy as np\n",
    "import math\n",
    "import cv2\n",
    "from PIL import Image\n",
    "from matplotlib import pyplot as plt"
   ]
  },
  {
   "cell_type": "code",
   "execution_count": null,
   "id": "24b39209-7c50-4cbf-b3e9-154ac5c3e2eb",
   "metadata": {},
   "outputs": [],
   "source": [
    "image_folder_path = '../data/raw/train/image'\n",
    "label_folder_path = '../data/raw/train/label'\n",
    "jpg_files = [file for file in os.listdir(image_folder_path) if file.endswith('.JPG')]\n",
    "npy_files = [jpg_file.replace('.JPG', '_gt.npy') for jpg_file in jpg_files]"
   ]
  },
  {
   "cell_type": "code",
   "execution_count": null,
   "id": "79a14317-0f5c-4ac6-ae7b-207630352091",
   "metadata": {},
   "outputs": [],
   "source": [
    "idx = 1\n",
    "\n",
    "jpg_file = jpg_files[idx]\n",
    "jpg_data = np.asarray(Image.open(os.path.join(image_folder_path, jpg_file)))\n",
    "\n",
    "npy_file = npy_files[idx]\n",
    "npy_data = np.load(os.path.join(label_folder_path, npy_file))"
   ]
  },
  {
   "cell_type": "code",
   "execution_count": null,
   "id": "39fe9623-65a3-43d8-97db-9eaa79326808",
   "metadata": {},
   "outputs": [],
   "source": [
    "plt.imshow(jpg_data)\n",
    "plt.show()"
   ]
  },
  {
   "cell_type": "code",
   "execution_count": null,
   "id": "3f6bec7b-c468-456d-8255-4893a5502482",
   "metadata": {},
   "outputs": [],
   "source": [
    "def get_num_tiles(tile_size=384):\n",
    "    row_size = 1024\n",
    "    col_size = 1360\n",
    "    \n",
    "    num_tiles_row = row_size / tile_size\n",
    "    num_tiles_col = col_size / tile_size\n",
    "\n",
    "    overlap_row = math.ceil(math.ceil(tile_size * math.ceil(num_tiles_row) - row_size) / math.floor(num_tiles_row))\n",
    "    overlap_col = math.ceil(math.ceil(tile_size * math.ceil(num_tiles_col) - col_size) / math.floor(num_tiles_col))\n",
    "    \n",
    "    num_tiles_row = math.ceil(num_tiles_row)\n",
    "    num_tiles_col = math.ceil(num_tiles_col)\n",
    "\n",
    "    return num_tiles_row, overlap_row, num_tiles_col, overlap_col"
   ]
  },
  {
   "cell_type": "code",
   "execution_count": null,
   "id": "5495762b-20e4-48e2-b96d-85fa166d8045",
   "metadata": {},
   "outputs": [],
   "source": [
    "num_tiles_row, overlap_row, num_tiles_col, overlap_col = get_num_tiles()"
   ]
  },
  {
   "cell_type": "code",
   "execution_count": null,
   "id": "698ba114-3bac-442f-86ea-c7f3bb6246ce",
   "metadata": {},
   "outputs": [],
   "source": [
    "def get_coords_tile(num_tiles_row, overlap_row, num_tiles_col, overlap_col, tile_size=384):\n",
    "    row_size = 1024\n",
    "    col_size = 1360\n",
    "    coords_tile = []\n",
    "    \n",
    "    for i in range(num_tiles_row):\n",
    "        for j in range(num_tiles_col):\n",
    "            x0 = max(0, i * (tile_size - overlap_row))\n",
    "            y0 = max(0, j * (tile_size - overlap_col))\n",
    "            x1 = min(row_size, x0 + tile_size)\n",
    "            y1 = min(col_size, y0 + tile_size)\n",
    "\n",
    "            if x1 + 1 == row_size:\n",
    "                x0 += 1\n",
    "                x1 += 1\n",
    "\n",
    "            if y1 + 1 == col_size:\n",
    "                y0 += 1\n",
    "                y1 += 1\n",
    "                \n",
    "            coords_tile.append((x0, y0, x1, y1))\n",
    "\n",
    "    return coords_tile"
   ]
  },
  {
   "cell_type": "code",
   "execution_count": null,
   "id": "cd7b7e62-8e38-4398-b948-9aec4a42186d",
   "metadata": {},
   "outputs": [],
   "source": [
    "coords_tile = get_coords_tile(num_tiles_row, overlap_row, num_tiles_col, overlap_col)"
   ]
  },
  {
   "cell_type": "code",
   "execution_count": null,
   "id": "6add150e-12c8-42dd-ad1e-220d5f12f615",
   "metadata": {
    "scrolled": true
   },
   "outputs": [],
   "source": [
    "jpg_data_rect = jpg_data.copy()\n",
    "\n",
    "for coord_tile in coords_tile:\n",
    "    x0, y0, x1, y1 = coord_tile\n",
    "    jpg_data_rect = cv2.rectangle(jpg_data_rect, (y0, x0), (y1, x1), (255, 0, 0), 3)\n",
    "    plt.imshow(jpg_data_rect)\n",
    "    plt.show()"
   ]
  },
  {
   "cell_type": "code",
   "execution_count": null,
   "id": "a228125a-a50b-47bf-905b-83ad35bfc599",
   "metadata": {},
   "outputs": [],
   "source": [
    "count = 0\n",
    "count_all = 0\n",
    "\n",
    "for npy_file in npy_files:\n",
    "    npy_data = np.load(os.path.join(label_folder_path, npy_file))\n",
    "    \n",
    "    for coord_tile in coords_tile:\n",
    "        x0, y0, x1, y1 = coord_tile\n",
    "        cropped_npy_data = npy_data[x0:x1, y0:y1]\n",
    "    \n",
    "        if len(np.unique(cropped_npy_data).tolist()) > 1:\n",
    "            count += 1\n",
    "\n",
    "        count_all += 1 \n",
    "\n",
    "percentage = count / count_all * 100\n",
    "print(f'On {count_all} tiles, there are {percentage:.2f}% with annotations ({count} tiles).')"
   ]
  }
 ],
 "metadata": {
  "kernelspec": {
   "display_name": "stranger-sections-2-env",
   "language": "python",
   "name": "stranger-sections-2-env"
  },
  "language_info": {
   "codemirror_mode": {
    "name": "ipython",
    "version": 3
   },
   "file_extension": ".py",
   "mimetype": "text/x-python",
   "name": "python",
   "nbconvert_exporter": "python",
   "pygments_lexer": "ipython3",
   "version": "3.10.14"
  }
 },
 "nbformat": 4,
 "nbformat_minor": 5
}
